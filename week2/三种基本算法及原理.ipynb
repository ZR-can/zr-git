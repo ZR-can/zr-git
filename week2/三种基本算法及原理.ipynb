{
 "cells": [
  {
   "cell_type": "code",
   "execution_count": 1,
   "id": "b5b6c650",
   "metadata": {},
   "outputs": [],
   "source": [
    "#BFS（广度优先搜索）\n",
    "from collections import deque\n",
    "\n",
    "def bfs(graph, start):\n",
    "    visited = set()\n",
    "    queue = deque([start])\n",
    "    while queue:\n",
    "        node = queue.popleft()\n",
    "        if node not in visited:\n",
    "            print(node, end=' ')\n",
    "            visited.add(node)\n",
    "            queue.extend(neigh for neigh in graph[node] if neigh not in visited)\n",
    "\n"
   ]
  },
  {
   "cell_type": "code",
   "execution_count": 2,
   "id": "a7c4f363",
   "metadata": {},
   "outputs": [],
   "source": [
    "# Dijkstra（迪杰斯特拉算法）\n",
    "import heapq\n",
    "\n",
    "def dijkstra(graph, start):\n",
    "    heap = [(0, start)]\n",
    "    dist = {node: float('inf') for node in graph}\n",
    "    dist[start] = 0\n",
    "\n",
    "    while heap:\n",
    "        current_dist, u = heapq.heappop(heap)\n",
    "        for v, weight in graph[u].items():\n",
    "            if dist[v] > current_dist + weight:\n",
    "                dist[v] = current_dist + weight\n",
    "                heapq.heappush(heap, (dist[v], v))\n",
    "    return dist\n"
   ]
  },
  {
   "cell_type": "code",
   "execution_count": 3,
   "id": "28900d4e",
   "metadata": {},
   "outputs": [],
   "source": [
    "#PageRank 算法\n",
    "def pagerank(graph, d=0.85, max_iter=100, tol=1.0e-6):\n",
    "    num_nodes = len(graph)\n",
    "    rank = {node: 1 / num_nodes for node in graph}\n",
    "    \n",
    "    for _ in range(max_iter):\n",
    "        new_rank = {}\n",
    "        for node in graph:\n",
    "            new_rank[node] = (1 - d) / num_nodes + d * sum(rank[neigh] / len(graph[neigh]) for neigh in graph if node in graph[neigh])\n",
    "        \n",
    "        if all(abs(new_rank[node] - rank[node]) < tol for node in graph):\n",
    "            break\n",
    "        rank = new_rank\n",
    "    \n",
    "    return rank"
   ]
  }
 ],
 "metadata": {
  "kernelspec": {
   "display_name": "ZR_py311",
   "language": "python",
   "name": "python3"
  },
  "language_info": {
   "codemirror_mode": {
    "name": "ipython",
    "version": 3
   },
   "file_extension": ".py",
   "mimetype": "text/x-python",
   "name": "python",
   "nbconvert_exporter": "python",
   "pygments_lexer": "ipython3",
   "version": "3.11.13"
  }
 },
 "nbformat": 4,
 "nbformat_minor": 5
}
