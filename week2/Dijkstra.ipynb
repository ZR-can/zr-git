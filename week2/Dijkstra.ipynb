{
 "cells": [
  {
   "cell_type": "code",
   "execution_count": 3,
   "id": "e8ec8ab5",
   "metadata": {},
   "outputs": [
    {
     "name": "stdout",
     "output_type": "stream",
     "text": [
      "图加载完成：1942 个节点，4905 条边\n",
      "最短路径长度：2075.27 米\n",
      "路径节点数：17\n",
      "路径图已保存为 Dijkstra 算法shortest_path.png\n"
     ]
    }
   ],
   "source": [
    "import networkx as nx\n",
    "import osmnx as ox\n",
    "import networkx as nx\n",
    "import matplotlib\n",
    "import matplotlib.pyplot as plt\n",
    "import os\n",
    "\n",
    "# 非GUI服务器兼容处理（不输出图形）\n",
    "if not os.environ.get(\"DISPLAY\"):\n",
    "    matplotlib.use('Agg')\n",
    "\n",
    "# 1. 下载图：指定城市或经纬度范围\n",
    "place_name = \"Palo Alto, California, USA\"\n",
    "G = ox.graph_from_place(place_name, network_type='drive')  # 'drive'表示汽车可达道路\n",
    "\n",
    "# 2. 简要信息\n",
    "print(f\"图加载完成：{G.number_of_nodes()} 个节点，{G.number_of_edges()} 条边\")\n",
    "\n",
    "# 3. 选择起点终点（用经纬度坐标，或随机选择两个节点）\n",
    "start_lat, start_lon = 37.4419, -122.1430\n",
    "end_lat, end_lon = 37.4300, -122.1310\n",
    "\n",
    "orig_node = ox.distance.nearest_nodes(G, X=start_lon, Y=start_lat)\n",
    "dest_node = ox.distance.nearest_nodes(G, X=end_lon, Y=end_lat)\n",
    "\n",
    "# 4. 使用 Dijkstra 算法（边权重为道路长度）\n",
    "path = nx.shortest_path(G, orig_node, dest_node, weight='length')\n",
    "path_length = nx.shortest_path_length(G, orig_node, dest_node, weight='length')\n",
    "print(f\"最短路径长度：{path_length:.2f} 米\")\n",
    "print(f\"路径节点数：{len(path)}\")\n",
    "\n",
    "# 5. 可视化（保存为图片）\n",
    "fig, ax = ox.plot_graph_route(G, path, node_size=0, bgcolor='w', show=False, close=True)\n",
    "fig.savefig(\"Dijkstra 算法shortest_path.png\", dpi=300)\n",
    "print(\"路径图已保存为 Dijkstra 算法shortest_path.png\")\n"
   ]
  }
 ],
 "metadata": {
  "kernelspec": {
   "display_name": "ZR_py311",
   "language": "python",
   "name": "python3"
  },
  "language_info": {
   "codemirror_mode": {
    "name": "ipython",
    "version": 3
   },
   "file_extension": ".py",
   "mimetype": "text/x-python",
   "name": "python",
   "nbconvert_exporter": "python",
   "pygments_lexer": "ipython3",
   "version": "3.11.13"
  }
 },
 "nbformat": 4,
 "nbformat_minor": 5
}
