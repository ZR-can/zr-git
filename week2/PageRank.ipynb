{
 "cells": [
  {
   "cell_type": "code",
   "execution_count": null,
   "id": "1a2736da",
   "metadata": {},
   "outputs": [],
   "source": [
    "import networkx as nx\n",
    "\n",
    "def load_web_graph(filepath):\n",
    "    G = nx.DiGraph() #初始化一个空的有向图\n",
    "    with open(filepath, 'rt') as f:\n",
    "        for line in f:\n",
    "            if not line.startswith('#'):\n",
    "                u, v = map(int, line.strip().split())\n",
    "                G.add_edge(u, v)\n",
    "    return G\n",
    "\n",
    "def compute_pagerank(graph, alpha=0.85):\n",
    "    return nx.pagerank(graph, alpha=alpha)\n",
    "\n"
   ]
  },
  {
   "cell_type": "code",
   "execution_count": 2,
   "id": "4274b756",
   "metadata": {},
   "outputs": [
    {
     "name": "stdout",
     "output_type": "stream",
     "text": [
      "Graph loaded: 875713 nodes, 5105039 edges\n",
      "Top 10 nodes by PageRank:\n",
      "Node 163075: 0.000952\n",
      "Node 597621: 0.000901\n",
      "Node 537039: 0.000895\n",
      "Node 837478: 0.000876\n",
      "Node 885605: 0.000822\n",
      "Node 551829: 0.000790\n",
      "Node 41909: 0.000779\n",
      "Node 605856: 0.000779\n",
      "Node 504140: 0.000746\n",
      "Node 819223: 0.000710\n"
     ]
    }
   ],
   "source": [
    "G = load_web_graph('web-Google.txt')\n",
    "print(f\"Graph loaded: {G.number_of_nodes()} nodes, {G.number_of_edges()} edges\")\n",
    "\n",
    "pr_scores = compute_pagerank(G)\n",
    "top_nodes = sorted(pr_scores.items(), key=lambda x: x[1], reverse=True)[:10]\n",
    "print(\"Top 10 nodes by PageRank:\")\n",
    "for node, score in top_nodes:\n",
    "    print(f\"Node {node}: {score:.6f}\")"
   ]
  }
 ],
 "metadata": {
  "kernelspec": {
   "display_name": "ZR_py311",
   "language": "python",
   "name": "python3"
  },
  "language_info": {
   "codemirror_mode": {
    "name": "ipython",
    "version": 3
   },
   "file_extension": ".py",
   "mimetype": "text/x-python",
   "name": "python",
   "nbconvert_exporter": "python",
   "pygments_lexer": "ipython3",
   "version": "3.11.13"
  }
 },
 "nbformat": 4,
 "nbformat_minor": 5
}
